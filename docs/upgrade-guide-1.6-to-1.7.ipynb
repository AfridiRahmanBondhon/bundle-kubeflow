{
 "cells": [
  {
   "attachments": {},
   "cell_type": "markdown",
   "metadata": {
    "tags": [
     "text"
    ]
   },
   "source": [
    "# How to upgrade Kubeflow from 1.6 to 1.7\n",
    "\n",
    "Version 1.7 of Kubeflow was release in ......, together with the bundle and charms of Charmed Kubeflow.\n",
    "To upgarde existing 1.6 Kubeflowe installation each individual charm needs to be refreshed using `juju refresh` command. For some charms additional manual procedures are required to prevent data loss and ensure proper post-upgarde behaviour.\n",
    "\n",
    ">>> WARNING on data loss\n",
    "\n",
    "**Contents:**\n",
    "\n",
    "- [Remove existing relations]()\n",
    "- [Backup data]()\n",
    "- [Upgrade the charms]()\n",
    "- [Upgrade Minio]()\n",
    "  - [Minio data migration and re-deployment instructions]()\n",
    "\n",
    "## Remove existing relations"
   ]
  },
  {
   "cell_type": "code",
   "execution_count": null,
   "metadata": {
    "tags": [
     "code"
    ],
    "vscode": {
     "languageId": "plaintext"
    }
   },
   "outputs": [],
   "source": [
    "juju switch kubeflow\n",
    "juju status --relations | grep regular | awk '{print $1\" \"$2}' | xargs -l juju remove-relation"
   ]
  },
  {
   "attachments": {},
   "cell_type": "markdown",
   "metadata": {},
   "source": [
    "## Backup data\n",
    "\n",
    "To prevent catastrophic data loss all important data should be backed up."
   ]
  },
  {
   "attachments": {},
   "cell_type": "markdown",
   "metadata": {
    "tags": [
     "text"
    ]
   },
   "source": [
    "## Upgrade the charms\n",
    "\n",
    "To upgarde Kubeflow each charm needs to be refreshed:\n",
    "\n",
    "# Istio is not upgrading properly\n",
    "juju refresh istio-ingressgateway --channel latest/edge\n",
    "juju refresh istio-pilot --channel latest/edge\n",
    "\n",
    "# User namespace is wiped out\n",
    "juju refresh kubeflow-dashboard --channel latest/edge\n",
    "juju refresh kubeflow-profiles --channel latest/edge\n"
   ]
  },
  {
   "cell_type": "code",
   "execution_count": null,
   "metadata": {
    "tags": [
     "code"
    ],
    "vscode": {
     "languageId": "plaintext"
    }
   },
   "outputs": [],
   "source": [
    "\n",
    "juju refresh admission-webhook --channel latest/edge\n",
    "juju refresh argo-controller --channel latest/edge\n",
    "juju refresh argo-server --channel latest/edge\n",
    "juju refresh dex-auth --channel latest/edge\n",
    "juju refresh jupyter-controller --channel latest/edge\n",
    "juju refresh jupyter-ui --channel latest/edge\n",
    "juju refresh katib-controller --channel latest/edge\n",
    "juju refresh katib-db --channel latest/edge\n",
    "juju refresh katib-db-manager --channel latest/edge\n",
    "juju refresh katib-ui --channel latest/edge\n",
    "juju refresh kfp-api --channel latest/edge\n",
    "juju refresh kfp-db --channel latest/edge\n",
    "juju refresh kfp-persistence --channel latest/edge\n",
    "juju refresh kfp-profile-controller --channel latest/edge\n",
    "juju refresh kfp-schedwf --channel latest/edge\n",
    "juju refresh kfp-ui --channel latest/edge\n",
    "juju refresh kfp-viewer --channel latest/edge\n",
    "juju refresh kfp-viz --channel latest/edge\n",
    "juju refresh kubeflow-roles --channel latest/edge\n",
    "juju refresh kubeflow-volumes --channel latest/edge\n",
    "juju refresh metacontroller-operator --channel latest/edge\n",
    "juju refresh oidc-gatekeeper --channel latest/edge\n",
    "juju refresh seldon-controller-manager --channel latest/edge\n",
    "juju refresh tensorboard-controller --channel latest/edge\n",
    "juju refresh tensorboards-web-app --channel latest/edge\n",
    "juju refresh training-operator --channel latest/edge"
   ]
  },
  {
   "attachments": {},
   "cell_type": "markdown",
   "metadata": {
    "tags": [
     "text"
    ]
   },
   "source": [
    "## Upgrade Minio\n",
    "\n",
    "Minio charm upgrade is done through re-deployment - removing existing Minio charm and deploying updated Minio charm. As a result, this upgarde requires storage migration to be performed which is done by copying of data from existing storage to newly created storage.\n",
    "\n",
    "### Minio data migration and re-deployment instructions\n",
    "\n",
    "1. Store Minio credentials:"
   ]
  },
  {
   "cell_type": "code",
   "execution_count": null,
   "metadata": {
    "vscode": {
     "languageId": "plaintext"
    }
   },
   "outputs": [],
   "source": [
    "MINIO_USER=$(juju config minio secret-key)\n",
    "MINIO_PASSWORD=$(juju config minio secret-key)"
   ]
  },
  {
   "attachments": {},
   "cell_type": "markdown",
   "metadata": {},
   "source": [
    "2. Remove all Minio relations (if not removed in previous step):"
   ]
  },
  {
   "cell_type": "code",
   "execution_count": null,
   "metadata": {
    "tags": [
     "code"
    ],
    "vscode": {
     "languageId": "plaintext"
    }
   },
   "outputs": [],
   "source": [
    "juju remove-relation minio:object-storage argo-controller:object-storage\n",
    "juju remove-relation minio:object-storage kfp-api:object-storage\n",
    "juju remove-relation minio:object-storage kfp-profile-controller:object-storage\n",
    "juju remove-relation minio:object-storage kfp-ui:object-storage\n",
    "juju remove-relation minio:object-storage mlflow-server:object-storage"
   ]
  },
  {
   "attachments": {},
   "cell_type": "markdown",
   "metadata": {},
   "source": [
    "\n",
    "3. Change reclaim policy of existing Minio PV and obtain exisitng PVC name and size which will be used as source of data migration:"
   ]
  },
  {
   "cell_type": "code",
   "execution_count": null,
   "metadata": {
    "tags": [
     "code"
    ],
    "vscode": {
     "languageId": "plaintext"
    }
   },
   "outputs": [],
   "source": [
    "PV_NAME=$(kubectl -n kubeflow get pv | grep minio | awk '{print $1}')\n",
    "kubectl patch pv $PV_NAME -p '{\"spec\":{\"persistentVolumeReclaimPolicy\":\"Retain\"}}'\n",
    "SOURCE_PVC=$(kubectl -n kubeflow get statefulset minio -o=json | jq -r '(.spec.volumeClaimTemplates)[0].metadata.name')\n",
    "PV_SIZE=?????"
   ]
  },
  {
   "attachments": {},
   "cell_type": "markdown",
   "metadata": {
    "tags": [
     "text"
    ]
   },
   "source": [
    "4. Remove Minio application (storage will be detached and retained):"
   ]
  },
  {
   "cell_type": "code",
   "execution_count": null,
   "metadata": {
    "tags": [
     "code"
    ],
    "vscode": {
     "languageId": "plaintext"
    }
   },
   "outputs": [],
   "source": [
    "juju remove-application minio"
   ]
  },
  {
   "attachments": {},
   "cell_type": "markdown",
   "metadata": {
    "tags": [
     "text"
    ]
   },
   "source": [
    "5. Deploy new Minio charm, reconfigure Minio, access dashboard, and obtain new PVC name which will be used as a destination for data migration:"
   ]
  },
  {
   "cell_type": "code",
   "execution_count": null,
   "metadata": {
    "tags": [
     "code"
    ],
    "vscode": {
     "languageId": "plaintext"
    }
   },
   "outputs": [],
   "source": [
    "juju deploy minio --channel edge\n",
    "juju config minio secret-key=$MINIO_USER\n",
    "juju config minio secret-key=$MINIO_PASSWORD\n",
    "DESTINATION_PVC=$(kubectl -n kubeflow get statefulset minio -o=json | jq -r '(.spec.volumeClaimTemplates)[0].metadata.name')"
   ]
  },
  {
   "attachments": {},
   "cell_type": "markdown",
   "metadata": {
    "tags": [
     "text"
    ]
   },
   "source": [
    "6. Create migration pod definition in `pod-minio-migration.yaml`:\n",
    "```\n",
    "apiVersion: v1\n",
    "kind: Pod\n",
    "metadata:\n",
    "  name: minio-migration\n",
    "  namespace: kubeflow\n",
    "spec:\n",
    "  containers:\n",
    "  - name: minio-migration\n",
    "    image: busybox\n",
    "    args:\n",
    "    - sleep\n",
    "    - \"1000000\"\n",
    "    volumeMounts:\n",
    "      - name: source\n",
    "        mountPath: /data-source\n",
    "      - name: destination\n",
    "        mountPath: /data-destination\n",
    "  volumes:\n",
    "    - name: source\n",
    "      persistentVolumeClaim:\n",
    "        claimName: SOURCE_PVC-minio-0\n",
    "        readOnly: false\n",
    "    - name: destination  \n",
    "      persistentVolumeClaim:\n",
    "        claimName: DESTINATION_PVC-minio-0\n",
    "        readOnly: false\n",
    "```"
   ]
  },
  {
   "attachments": {},
   "cell_type": "markdown",
   "metadata": {
    "tags": [
     "text"
    ]
   },
   "source": [
    "7. Start migration pod:"
   ]
  },
  {
   "cell_type": "code",
   "execution_count": null,
   "metadata": {
    "tags": [
     "code"
    ],
    "vscode": {
     "languageId": "plaintext"
    }
   },
   "outputs": [],
   "source": [
    "sed \"s/SOURCE_PVC/${SOURCE_PVC}/g;s/DESTINATION_PVC/${DESTINATION_PVC}/g;\" pod-minio-migration.yaml | 8ubectl apply -f -"
   ]
  },
  {
   "attachments": {},
   "cell_type": "markdown",
   "metadata": {
    "tags": [
     "text"
    ]
   },
   "source": [
    "9. Ensure that `minio-migration` pod is running and execute data copy command from source PVC to destination PVC:"
   ]
  },
  {
   "cell_type": "code",
   "execution_count": null,
   "metadata": {
    "tags": [
     "code"
    ],
    "vscode": {
     "languageId": "plaintext"
    }
   },
   "outputs": [],
   "source": [
    "kubectl -n kubeflow exec -ti minio-migration -- /bin/sh -c \"cp -rfpT /data-source/ /data-destination/ && sync && exit\""
   ]
  },
  {
   "attachments": {},
   "cell_type": "markdown",
   "metadata": {
    "tags": [
     "text"
    ]
   },
   "source": [
    "9. After data copying is complete delete migration pod:"
   ]
  },
  {
   "cell_type": "code",
   "execution_count": null,
   "metadata": {
    "tags": [
     "code"
    ],
    "vscode": {
     "languageId": "plaintext"
    }
   },
   "outputs": [],
   "source": [
    "kubectl -n kubeflow delete pod minio-migration"
   ]
  },
  {
   "attachments": {},
   "cell_type": "markdown",
   "metadata": {
    "tags": [
     "text"
    ]
   },
   "source": [
    "10. Verify that data is accessible by navigating to Minio dashboard."
   ]
  },
  {
   "attachments": {},
   "cell_type": "markdown",
   "metadata": {
    "tags": [
     "text"
    ]
   },
   "source": [
    "11. After completed deployment with relations and additional testing of data integrity old PV and PVC can be removed:"
   ]
  },
  {
   "cell_type": "code",
   "execution_count": null,
   "metadata": {
    "tags": [
     "code"
    ],
    "vscode": {
     "languageId": "plaintext"
    }
   },
   "outputs": [],
   "source": [
    "kubectl -n kubeflow delete pv $PV_NAME\n",
    "kubectl -n kubeflow delete pvc $SOURCE_PVC"
   ]
  },
  {
   "attachments": {},
   "cell_type": "markdown",
   "metadata": {
    "tags": [
     "text"
    ]
   },
   "source": [
    "## Add relations\n",
    "\n",
    "The charms now require relations to be added again to complete a working deployment. You do not need to wait for all the charms to be deployed to add these relations."
   ]
  },
  {
   "cell_type": "code",
   "execution_count": null,
   "metadata": {
    "tags": [
     "code"
    ],
    "vscode": {
     "languageId": "plaintext"
    }
   },
   "outputs": [],
   "source": [
    "juju relate argo-controller minio\n",
    "juju relate dex-auth:oidc-client oidc-gatekeeper:oidc-client\n",
    "juju relate istio-pilot:ingress dex-auth:ingress\n",
    "juju relate istio-pilot:ingress jupyter-ui:ingress\n",
    "juju relate istio-pilot:ingress kfp-ui:ingress\n",
    "juju relate istio-pilot:ingress kubeflow-dashboard:ingress\n",
    "juju relate istio-pilot:ingress kubeflow-volumes:ingress\n",
    "juju relate istio-pilot:ingress oidc-gatekeeper:ingress\n",
    "juju relate istio-pilot:ingress-auth oidc-gatekeeper:ingress-auth\n",
    "juju relate istio-pilot:istio-pilot istio-ingressgateway:istio-pilot\n",
    "juju relate kfp-api kfp-db\n",
    "juju relate kfp-api:kfp-api kfp-persistence:kfp-api\n",
    "juju relate kfp-api:kfp-api kfp-ui:kfp-api\n",
    "juju relate kfp-api:kfp-viz kfp-viz:kfp-viz\n",
    "juju relate kfp-api:object-storage minio:object-storage\n",
    "juju relate kfp-profile-controller:object-storage minio:object-storage\n",
    "juju relate kfp-ui:object-storage minio:object-storage\n",
    "juju relate kubeflow-profiles kubeflow-dashboard\n",
    "juju relate istio-pilot:ingress tensorboards-web-app:ingress\n",
    "juju relate istio-pilot:gateway tensorboard-controller:gateway\n",
    "juju relate istio-pilot:ingress katib-ui:ingress\n",
    "juju relate katib-db-manager katib-db"
   ]
  },
  {
   "attachments": {},
   "cell_type": "markdown",
   "metadata": {
    "tags": [
     "text"
    ]
   },
   "source": [
    "You can control the progress of the update by running:"
   ]
  },
  {
   "cell_type": "code",
   "execution_count": null,
   "metadata": {
    "tags": [
     "code"
    ],
    "vscode": {
     "languageId": "plaintext"
    }
   },
   "outputs": [],
   "source": [
    "watch -c juju status --color"
   ]
  }
 ],
 "metadata": {
  "language_info": {
   "name": "python"
  },
  "orig_nbformat": 4
 },
 "nbformat": 4,
 "nbformat_minor": 2
}
